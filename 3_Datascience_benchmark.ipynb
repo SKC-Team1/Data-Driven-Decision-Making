{
 "cells": [
  {
   "cell_type": "markdown",
   "metadata": {},
   "source": [
    "# Import dependencies"
   ]
  },
  {
   "cell_type": "code",
   "execution_count": null,
   "metadata": {},
   "outputs": [],
   "source": [
    "import re\n",
    "import pandas as pd\n",
    "import numpy as np\n",
    "from sklearn.metrics import recall_score, precision_score"
   ]
  },
  {
   "cell_type": "markdown",
   "metadata": {},
   "source": [
    "# Load the dataset"
   ]
  },
  {
   "cell_type": "code",
   "execution_count": null,
   "metadata": {},
   "outputs": [],
   "source": [
    "# Load the cleaned dataset into the notebook\n",
    "df = pd.read_csv(\"~/Documents/skc_data/article_info_V4.csv\", index_col=0, parse_dates=[1])"
   ]
  },
  {
   "cell_type": "code",
   "execution_count": null,
   "metadata": {},
   "outputs": [],
   "source": [
    "def convert_str_lists():\n",
    "    # Define the regex pattern required to get the tags and keywords from the strings\n",
    "    str_list_regex_pattern = r\"'(.*?)'\"\n",
    "\n",
    "    # Make the tags accessible as lists of strings\n",
    "    df[\"Tags\"] = df[\"Tags\"].apply(lambda str_list: re.findall(str_list_regex_pattern, str_list))\n",
    "\n",
    "    # Make the keywords accessible as lists of strings\n",
    "    df[\"Keywords\"] = df[\"Keywords\"].apply(lambda str_list: re.findall(str_list_regex_pattern, str_list))\n",
    "\n",
    "    # Make the types of the articles accessible as lists of strings\n",
    "    df[\"Type\"] = df[\"Type\"].apply(lambda str_list: re.findall(str_list_regex_pattern, str_list))\n",
    "\n",
    "convert_str_lists()"
   ]
  },
  {
   "cell_type": "markdown",
   "metadata": {},
   "source": [
    "# Benchmark for data mining goal 1"
   ]
  },
  {
   "cell_type": "code",
   "execution_count": null,
   "metadata": {},
   "outputs": [],
   "source": [
    "y_target = df[\"tags_contain_cocaine\"]\n",
    "benchmark_predictions = [1] * len(y_target)\n",
    "p_score = precision_score(y_target, benchmark_predictions) * 100\n",
    "r_score = recall_score(y_target, benchmark_predictions) * 100\n",
    "print(\"Recall Score: \" + \"{:.2f}\".format(r_score)+\"%\")\n",
    "print(\"Precision Score: \" + \"{:.2f}\".format(p_score)+\"%\")"
   ]
  },
  {
   "cell_type": "markdown",
   "metadata": {},
   "source": [
    "# Benchmark for data mining goal 2"
   ]
  },
  {
   "cell_type": "code",
   "execution_count": null,
   "metadata": {},
   "outputs": [],
   "source": [
    "# True positive values\n",
    "TP = 0\n",
    "# False positive values\n",
    "FP = 0\n",
    "# False negative values\n",
    "FN = 0\n",
    "# True negative values\n",
    "TN = 0\n",
    "\n",
    "# Loop over every tag_list in the tags column of the dataset\n",
    "for index, tag_list in enumerate(df.Tags):\n",
    "    # Get the keyword list which belongs to the current article\n",
    "    keyword_list = df.Keywords[index]\n",
    "    # Loop over every keyword in the keyword_list of the current article\n",
    "    for tag in tag_list:\n",
    "        if tag in keyword_list:\n",
    "            # The tag is positive, and the keyword is positive\n",
    "            TP += 1\n",
    "        else:\n",
    "            # The tag is positive, but the keyword is negative\n",
    "            FN += 1\n",
    "    for keyword in keyword_list:\n",
    "        if keyword not in tag_list:\n",
    "            # The keyword is positive, but the tag is negative\n",
    "            FP += 1\n",
    "        else:\n",
    "            # The keyword is negative, and the tag is negative\n",
    "            TN += 1\n",
    "\n",
    "recall = TP / (TP + FN)\n",
    "precision = TP / (TP + FP)\n",
    "\n",
    "print(\"Recall Score: \" + \"{:.2f}\".format(recall * 100)+\"%\")\n",
    "print(\"Precision Score: \" + \"{:.2f}\".format(precision * 100)+\"%\")"
   ]
  }
 ],
 "metadata": {
  "interpreter": {
   "hash": "e7370f93d1d0cde622a1f8e1c04877d8463912d04d973331ad4851f04de6915a"
  },
  "kernelspec": {
   "display_name": "Python 3.10.4 64-bit",
   "language": "python",
   "name": "python3"
  },
  "language_info": {
   "codemirror_mode": {
    "name": "ipython",
    "version": 3
   },
   "file_extension": ".py",
   "mimetype": "text/x-python",
   "name": "python",
   "nbconvert_exporter": "python",
   "pygments_lexer": "ipython3",
   "version": "3.10.4"
  },
  "orig_nbformat": 4
 },
 "nbformat": 4,
 "nbformat_minor": 2
}
