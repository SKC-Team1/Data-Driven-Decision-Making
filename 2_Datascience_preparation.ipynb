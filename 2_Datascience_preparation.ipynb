{
 "cells": [
  {
   "cell_type": "markdown",
   "metadata": {},
   "source": [
    "# Import dependencies"
   ]
  },
  {
   "cell_type": "code",
   "execution_count": null,
   "metadata": {},
   "outputs": [],
   "source": [
    "import os\n",
    "import re\n",
    "import pandas as pd\n",
    "import numpy as np\n",
    "from dotenv import load_dotenv"
   ]
  },
  {
   "cell_type": "markdown",
   "metadata": {},
   "source": [
    "# Load dataset"
   ]
  },
  {
   "cell_type": "code",
   "execution_count": null,
   "metadata": {},
   "outputs": [],
   "source": [
    "# Load the environment variables from the .env file\n",
    "load_dotenv()\n",
    "# Get the dataset path from the environment variables\n",
    "dataset_path = os.environ.get(\"DATASET_PATH\")\n",
    "# Load the dataset into the notebook\n",
    "df = pd.read_csv(f\"{dataset_path}/article_info_V3.csv\", index_col=0, parse_dates=[1])"
   ]
  },
  {
   "cell_type": "code",
   "execution_count": null,
   "metadata": {},
   "outputs": [],
   "source": [
    "def convert_str_lists():\n",
    "    # Define the regex pattern required to get the tags and keywords from the strings\n",
    "    str_list_regex_pattern = r\"'(.*?)'\"\n",
    "\n",
    "    # Make the tags accessible as lists of strings\n",
    "    df[\"Tags\"] = df[\"Tags\"].apply(lambda str_list: re.findall(str_list_regex_pattern, str_list))\n",
    "\n",
    "    # Make the keywords accessible as lists of strings\n",
    "    df[\"Keywords\"] = df[\"Keywords\"].apply(lambda str_list: re.findall(str_list_regex_pattern, str_list))\n",
    "\n",
    "    # Make the types of the articles accessible as lists of strings\n",
    "    df[\"Type\"] = df[\"Type\"].apply(lambda str_list: re.findall(str_list_regex_pattern, str_list))\n",
    "\n",
    "convert_str_lists()"
   ]
  },
  {
   "cell_type": "markdown",
   "metadata": {},
   "source": [
    "# Define method to get unique values and their frequency"
   ]
  },
  {
   "cell_type": "code",
   "execution_count": null,
   "metadata": {},
   "outputs": [],
   "source": [
    "def get_frequencies_from_lists(dataframe_column):\n",
    "    # Define a dictionary to store the tag frequencies\n",
    "    unique_values = {}\n",
    "\n",
    "    # Loop over the tag values of the dataframe    \n",
    "    for value_list in dataframe_column:\n",
    "        # Loop over each tag in the tag list\n",
    "        for value in value_list:\n",
    "            # If the tag is not in the dictionary, add it\n",
    "            new_frequency = 1\n",
    "            # Attempt to get the tag from the dictionary\n",
    "            current_frequency = unique_values.get(value)\n",
    "            # Check if the tag is in the dictionary\n",
    "            if current_frequency:\n",
    "                # If the tag is in the dictionary, increment the frequency by 1\n",
    "                new_frequency = np.add(current_frequency, 1)\n",
    "            # Set the new value for the tag in the dictionary\n",
    "            unique_values[value] = new_frequency\n",
    "    # Return the dictionary\n",
    "    return unique_values\n",
    "\n",
    "def get_sorted_frequencies_in_dataframe(dataframe_column):\n",
    "    # Get the unique values from the lists in a column\n",
    "    unique_values = get_frequencies_from_lists(dataframe_column)\n",
    "    # Sort the tags by their frequency, from high to low\n",
    "    sorted_unique_tag_frequency = sorted(unique_values.items(), key=lambda x: x[1], reverse=True)\n",
    "    # Convert the list into a dataframe and return it\n",
    "    return pd.DataFrame(sorted_unique_tag_frequency, columns=[dataframe_column.name, \"Frequency\"])"
   ]
  },
  {
   "cell_type": "markdown",
   "metadata": {},
   "source": [
    "# Get the unique tags and keywords"
   ]
  },
  {
   "cell_type": "code",
   "execution_count": null,
   "metadata": {},
   "outputs": [],
   "source": [
    "unique_tags = get_sorted_frequencies_in_dataframe(df.Tags)\n",
    "unique_keywords = get_sorted_frequencies_in_dataframe(df.Keywords)"
   ]
  },
  {
   "cell_type": "markdown",
   "metadata": {},
   "source": [
    "# Perform custom one hot encoding"
   ]
  },
  {
   "cell_type": "code",
   "execution_count": null,
   "metadata": {},
   "outputs": [],
   "source": [
    "# Checks if a word occurs in a list of words\n",
    "def list_has_word(l, word):\n",
    "    if word in l:\n",
    "        return 1\n",
    "    return 0\n",
    "\n",
    "def custom_keywords_one_hot_encoding(number_of_keywords):\n",
    "    # A dictionary which stores the new columns\n",
    "    one_hot_keyword_columns = {}\n",
    "    # The names of the new keyword columns\n",
    "    keyword_column_names = []\n",
    "    for i in range(0, number_of_keywords):\n",
    "        # The current unique keyword\n",
    "        word = unique_keywords.Keywords[i]\n",
    "        # The new column name\n",
    "        column_name = f\"Keyword_{word}\"\n",
    "        # Add the column name to the list of column names\n",
    "        keyword_column_names.append(column_name)\n",
    "        # Add the new column to the dictionary\n",
    "        one_hot_keyword_columns[column_name] = df[\"Keywords\"].apply(lambda l: list_has_word(l, word))\n",
    "    return pd.DataFrame(one_hot_keyword_columns, columns=keyword_column_names)\n",
    "\n",
    "one_hot_keyword_df = custom_keywords_one_hot_encoding(number_of_keywords=5000)"
   ]
  },
  {
   "cell_type": "markdown",
   "metadata": {},
   "source": [
    "# Add the one hot encoded values to the dataframe"
   ]
  },
  {
   "cell_type": "code",
   "execution_count": null,
   "metadata": {},
   "outputs": [],
   "source": [
    "# One hot encode the cocaine tag and add it to the dataframe\n",
    "df[\"tags_contain_cocaine\"] = df[\"Tags\"].apply(lambda l: list_has_word(l, \"cocaine\"))\n",
    "# Add the one hot encoded keywords to the dataframe using a left join\n",
    "df = df.join(one_hot_keyword_df)\n",
    "# Remove the old variable, to free up some memory\n",
    "del one_hot_keyword_df"
   ]
  },
  {
   "cell_type": "markdown",
   "metadata": {},
   "source": [
    "# Write the dataframe to a new CSV file"
   ]
  },
  {
   "cell_type": "code",
   "execution_count": null,
   "metadata": {},
   "outputs": [],
   "source": [
    "# Write the dataframe to a csv file\n",
    "df.to_csv(f\"{dataset_path}/article_info_V4.csv\")"
   ]
  }
 ],
 "metadata": {
  "interpreter": {
   "hash": "e7370f93d1d0cde622a1f8e1c04877d8463912d04d973331ad4851f04de6915a"
  },
  "kernelspec": {
   "display_name": "Python 3.10.4 64-bit",
   "language": "python",
   "name": "python3"
  },
  "language_info": {
   "codemirror_mode": {
    "name": "ipython",
    "version": 3
   },
   "file_extension": ".py",
   "mimetype": "text/x-python",
   "name": "python",
   "nbconvert_exporter": "python",
   "pygments_lexer": "ipython3",
   "version": "3.10.4"
  },
  "orig_nbformat": 4
 },
 "nbformat": 4,
 "nbformat_minor": 2
}
