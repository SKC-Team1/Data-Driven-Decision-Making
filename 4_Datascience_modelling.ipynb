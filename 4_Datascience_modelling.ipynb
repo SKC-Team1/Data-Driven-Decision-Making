{
 "cells": [
  {
   "cell_type": "markdown",
   "metadata": {},
   "source": [
    "# Import dependencies"
   ]
  },
  {
   "cell_type": "code",
   "execution_count": null,
   "metadata": {},
   "outputs": [],
   "source": [
    "import re\n",
    "import pandas as pd\n",
    "import numpy as np\n",
    "from sklearn.model_selection import train_test_split\n",
    "from sklearn.metrics import ConfusionMatrixDisplay\n",
    "from sklearn.metrics import recall_score, precision_score, accuracy_score, f1_score, classification_report\n",
    "from sklearn.svm import LinearSVC\n",
    "from sklearn.linear_model import SGDClassifier"
   ]
  },
  {
   "cell_type": "markdown",
   "metadata": {},
   "source": [
    "# Load the dataset"
   ]
  },
  {
   "cell_type": "code",
   "execution_count": null,
   "metadata": {},
   "outputs": [],
   "source": [
    "# Load the cleaned dataset into the notebook\n",
    "df = pd.read_csv(\"~/Documents/skc_data/article_info_V4.csv\", index_col=0, parse_dates=[1])"
   ]
  },
  {
   "cell_type": "code",
   "execution_count": null,
   "metadata": {},
   "outputs": [],
   "source": [
    "def convert_str_lists():\n",
    "    # Define the regex pattern required to get the tags and keywords from the strings\n",
    "    str_list_regex_pattern = r\"'(.*?)'\"\n",
    "\n",
    "    # Make the tags accessible as lists of strings\n",
    "    df[\"Tags\"] = df[\"Tags\"].apply(lambda str_list: re.findall(str_list_regex_pattern, str_list))\n",
    "\n",
    "    # Make the keywords accessible as lists of strings\n",
    "    df[\"Keywords\"] = df[\"Keywords\"].apply(lambda str_list: re.findall(str_list_regex_pattern, str_list))\n",
    "\n",
    "    # Make the types of the articles accessible as lists of strings\n",
    "    df[\"Type\"] = df[\"Type\"].apply(lambda str_list: re.findall(str_list_regex_pattern, str_list))\n",
    "\n",
    "convert_str_lists()"
   ]
  },
  {
   "cell_type": "markdown",
   "metadata": {},
   "source": [
    "# Get top 5000 keyword column names"
   ]
  },
  {
   "cell_type": "code",
   "execution_count": null,
   "metadata": {},
   "outputs": [],
   "source": [
    "def get_frequencies_from_lists(dataframe_column):\n",
    "    # Define a dictionary to store the tag frequencies\n",
    "    unique_values = {}\n",
    "\n",
    "    # Loop over the tag values of the dataframe    \n",
    "    for value_list in dataframe_column:\n",
    "        # Loop over each tag in the tag list\n",
    "        for value in value_list:\n",
    "            # If the tag is not in the dictionary, add it\n",
    "            new_frequency = 1\n",
    "            # Attempt to get the tag from the dictionary\n",
    "            current_frequency = unique_values.get(value)\n",
    "            # Check if the tag is in the dictionary\n",
    "            if current_frequency:\n",
    "                # If the tag is in the dictionary, increment the frequency by 1\n",
    "                new_frequency = np.add(current_frequency, 1)\n",
    "            # Set the new value for the tag in the dictionary\n",
    "            unique_values[value] = new_frequency\n",
    "    # Return the dictionary\n",
    "    return unique_values\n",
    "\n",
    "def get_sorted_frequencies_in_dataframe(dataframe_column):\n",
    "    # Get the unique values from the lists in a column\n",
    "    unique_values = get_frequencies_from_lists(dataframe_column)\n",
    "    # Sort the tags by their frequency, from high to low\n",
    "    sorted_unique_tag_frequency = sorted(unique_values.items(), key=lambda x: x[1], reverse=True)\n",
    "    # Convert the list into a dataframe and return it\n",
    "    return pd.DataFrame(sorted_unique_tag_frequency, columns=[dataframe_column.name, \"Frequency\"])"
   ]
  },
  {
   "cell_type": "code",
   "execution_count": null,
   "metadata": {},
   "outputs": [],
   "source": [
    "# Get the unique keywords and their frequencies from the dataset\n",
    "unique_keywords = get_sorted_frequencies_in_dataframe(df[\"Keywords\"])\n",
    "# Get the keyword column names of the top 5000 keywords\n",
    "keyword_column_names = unique_keywords.Keywords[:5000].apply(lambda x: f\"Keyword_{x}\")\n",
    "# Remove the unique keywords from memory\n",
    "del unique_keywords"
   ]
  },
  {
   "cell_type": "markdown",
   "metadata": {},
   "source": [
    "# Get the features and target"
   ]
  },
  {
   "cell_type": "code",
   "execution_count": null,
   "metadata": {},
   "outputs": [],
   "source": [
    "# Get the feature columns\n",
    "X = df[keyword_column_names]\n",
    "\n",
    "# Get the target column\n",
    "y = df[\"tags_contain_cocaine\"]"
   ]
  },
  {
   "cell_type": "markdown",
   "metadata": {},
   "source": [
    "# Get training and test data from dataset"
   ]
  },
  {
   "cell_type": "code",
   "execution_count": null,
   "metadata": {},
   "outputs": [],
   "source": [
    "# Split the data into training and test sets\n",
    "X_train, X_test, y_train, y_test = train_test_split(X, y, test_size=0.2)"
   ]
  },
  {
   "cell_type": "markdown",
   "metadata": {},
   "source": [
    "# Set the max iterations"
   ]
  },
  {
   "cell_type": "code",
   "execution_count": null,
   "metadata": {},
   "outputs": [],
   "source": [
    "MAX_ITERATIONS = 2000000"
   ]
  },
  {
   "cell_type": "markdown",
   "metadata": {},
   "source": [
    "# Linear SVC Model"
   ]
  },
  {
   "cell_type": "code",
   "execution_count": null,
   "metadata": {},
   "outputs": [],
   "source": [
    "# Create a linear SVC model\n",
    "clf = LinearSVC(max_iter=MAX_ITERATIONS)\n",
    "\n",
    "# Fit the model to the data\n",
    "clf = clf.fit(X_train, y_train)\n",
    "\n",
    "# Run a feedforward pass with the test data\n",
    "lsvc_predictions = clf.predict(X_test)"
   ]
  },
  {
   "cell_type": "markdown",
   "metadata": {},
   "source": [
    "# Performance methods"
   ]
  },
  {
   "cell_type": "code",
   "execution_count": null,
   "metadata": {},
   "outputs": [],
   "source": [
    "def specificity_score(target, predictions):\n",
    "    return 1 - recall_score(target, predictions)\n",
    "\n",
    "def get_metrics(target, predictions):\n",
    "    return {\n",
    "        \"recall\": recall_score(target, predictions),\n",
    "        \"precision\": precision_score(target, predictions),\n",
    "        \"accuracy\": accuracy_score(target, predictions),\n",
    "        \"specificity\": specificity_score(target, predictions),\n",
    "        \"f1\": f1_score(target, predictions),\n",
    "    }\n",
    "\n",
    "def print_metrics(target, predictions):\n",
    "    metrics = get_metrics(target=target, predictions=predictions)\n",
    "    for metric in metrics:\n",
    "        str_metric = \"{:.2f}\".format(metrics[metric] * 100)+\"%\"\n",
    "        print(f\"{metric}: {str_metric}\")"
   ]
  },
  {
   "cell_type": "markdown",
   "metadata": {},
   "source": [
    "# Performance of the Linear SVC Model"
   ]
  },
  {
   "cell_type": "code",
   "execution_count": null,
   "metadata": {},
   "outputs": [],
   "source": [
    "# Show a confusion matrix of the predictions\n",
    "confusion_matrix = ConfusionMatrixDisplay.from_predictions(y_test, lsvc_predictions)\n",
    "# Print the metrics of the model performance\n",
    "print_metrics(y_test, lsvc_predictions)"
   ]
  },
  {
   "cell_type": "markdown",
   "metadata": {},
   "source": [
    "# SGD Model (Stochastic Gradient Descent)"
   ]
  },
  {
   "cell_type": "code",
   "execution_count": null,
   "metadata": {},
   "outputs": [],
   "source": [
    "# Create a new SGD Model\n",
    "sgd_clf = SGDClassifier(max_iter=MAX_ITERATIONS)\n",
    "# Fit the model to the data\n",
    "sgd_clf = sgd_clf.fit(X_train, y_train)\n",
    "# Run a feedforward pass with the test data\n",
    "sgd_predictions = sgd_clf.predict(X_test)"
   ]
  },
  {
   "cell_type": "markdown",
   "metadata": {},
   "source": [
    "# Performance of SGD Model"
   ]
  },
  {
   "cell_type": "code",
   "execution_count": null,
   "metadata": {},
   "outputs": [],
   "source": [
    "# Show a confusion matrix of the predictions\n",
    "confusion_matrix = ConfusionMatrixDisplay.from_predictions(y_test, sgd_predictions)\n",
    "# Print the metrics of the model performance\n",
    "print_metrics(y_test, sgd_predictions)"
   ]
  }
 ],
 "metadata": {
  "interpreter": {
   "hash": "e7370f93d1d0cde622a1f8e1c04877d8463912d04d973331ad4851f04de6915a"
  },
  "kernelspec": {
   "display_name": "Python 3.10.4 64-bit",
   "language": "python",
   "name": "python3"
  },
  "language_info": {
   "codemirror_mode": {
    "name": "ipython",
    "version": 3
   },
   "file_extension": ".py",
   "mimetype": "text/x-python",
   "name": "python",
   "nbconvert_exporter": "python",
   "pygments_lexer": "ipython3",
   "version": "3.10.2"
  },
  "orig_nbformat": 4
 },
 "nbformat": 4,
 "nbformat_minor": 2
}
